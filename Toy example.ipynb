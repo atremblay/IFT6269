{
 "cells": [
  {
   "cell_type": "code",
   "execution_count": 1,
   "metadata": {},
   "outputs": [],
   "source": [
    "import torch\n",
    "import torch.nn as nn\n",
    "import numpy as np\n",
    "import matplotlib.pyplot as plt\n",
    "import tqdm\n",
    "from scipy.stats import norm"
   ]
  },
  {
   "cell_type": "code",
   "execution_count": 60,
   "metadata": {},
   "outputs": [],
   "source": [
    "def get_sample(size=10):\n",
    "    X = np.random.normal(0, 1, size=size)\n",
    "    y = X + np.random.normal(0, 1, size=size)\n",
    "    return torch.from_numpy(X[:, None]).float(), torch.from_numpy(y[:, None]).float()"
   ]
  },
  {
   "cell_type": "code",
   "execution_count": 61,
   "metadata": {},
   "outputs": [],
   "source": [
    "class LinearRegression(nn.Module):\n",
    "    def __init__(self, in_features=1, bias=True):\n",
    "        super(LinearRegression, self).__init__()\n",
    "        self.linear = nn.Linear(in_features, 1, bias=bias)\n",
    "        self.var = nn.Linear(in_features, 1, bias=bias)\n",
    "        \n",
    "    def forward(self, x):\n",
    "        return self.linear(x), self.var(x)"
   ]
  },
  {
   "cell_type": "code",
   "execution_count": 62,
   "metadata": {},
   "outputs": [],
   "source": [
    "def aleatoric_loss(true, pred, var):\n",
    "    \"\"\"\n",
    "    Taken from https://arxiv.org/pdf/1703.04977.pdf\n",
    "    Theory says we should implement equation (5),\n",
    "    but practice says equation (8).\n",
    "    This paper is for computer vision, but the theory behind it applies to\n",
    "    any neural network model. Here we are using it for NLP.\n",
    "    Params\n",
    "    ======\n",
    "    true: torch tensor\n",
    "        The true targets\n",
    "    pred: torch tensor\n",
    "        The predictions\n",
    "    var: torch tensor\n",
    "        The uncertainty of every prediction (actually log(var)).\n",
    "    \"\"\"\n",
    "    loss = torch.exp(-var) * (true - pred)**2 / 2\n",
    "    loss += 0.5 * var\n",
    "    return torch.mean(loss)"
   ]
  },
  {
   "cell_type": "code",
   "execution_count": 63,
   "metadata": {},
   "outputs": [],
   "source": [
    "def train(X, y, aleatoric=False):\n",
    "    net = LinearRegression(in_features=X.shape[1])\n",
    "\n",
    "    optim = torch.optim.SGD(net.parameters(), lr=0.0001)\n",
    "    criterion = nn.MSELoss()\n",
    "    previous_loss = None\n",
    "    diff = 1\n",
    "    pbar = tqdm.tqdm()\n",
    "    i = 0\n",
    "    patience = 0\n",
    "    losses = []\n",
    "    while True:\n",
    "        optim.zero_grad()\n",
    "        pred, var = net(X)\n",
    "        if aleatoric:\n",
    "            loss = aleatoric_loss(y, pred, var)\n",
    "        else:\n",
    "            loss = criterion(pred, y)\n",
    "            \n",
    "        if previous_loss is not None:\n",
    "            diff = previous_loss - loss.item()\n",
    "        previous_loss = loss.item()\n",
    "        losses.append(loss.item())\n",
    "        pbar.update(1)\n",
    "        if i % 10000 == 0:\n",
    "            pbar.set_description(\"Loss {:.4f}\".format(loss.item()))\n",
    "        if i == 50000:\n",
    "            optim = torch.optim.SGD(net.parameters(), lr=0.00001)\n",
    "        if i == 75000:\n",
    "            optim = torch.optim.SGD(net.parameters(), lr=0.00001)\n",
    "            \n",
    "        loss.backward()\n",
    "        optim.step()\n",
    "        if diff < 0.00001:\n",
    "            patience += 1\n",
    "        else:\n",
    "            patience = 0\n",
    "        if patience >= 20 and i >= 100000:\n",
    "            break\n",
    "        i += 1\n",
    "    pbar.close()\n",
    "\n",
    "    MSE = ((pred - y)**2).mean()\n",
    "    \n",
    "    return net, MSE, losses"
   ]
  },
  {
   "cell_type": "code",
   "execution_count": 64,
   "metadata": {},
   "outputs": [
    {
     "data": {
      "text/plain": [
       "<matplotlib.collections.PathCollection at 0x1a197b9710>"
      ]
     },
     "execution_count": 64,
     "metadata": {},
     "output_type": "execute_result"
    },
    {
     "data": {
      "image/png": "[encoded data removed]",
      "text/plain": [
       "<Figure size 432x288 with 1 Axes>"
      ]
     },
     "metadata": {
      "needs_background": "light"
     },
     "output_type": "display_data"
    }
   ],
   "source": [
    "X, y = get_sample(10)\n",
    "plt.scatter(X.numpy().squeeze(), y.numpy().squeeze())"
   ]
  },
  {
   "cell_type": "code",
   "execution_count": 65,
   "metadata": {},
   "outputs": [],
   "source": [
    "X_in = X\n",
    "# X_in = torch.cat([X, X**2], dim=1)"
   ]
  },
  {
   "cell_type": "code",
   "execution_count": 66,
   "metadata": {},
   "outputs": [
    {
     "name": "stderr",
     "output_type": "stream",
     "text": [
      "Loss 0.2590: : 100001it [00:09, 10805.66it/s]\n"
     ]
    }
   ],
   "source": [
    "lr, MSE, losses = train(X_in, y)"
   ]
  },
  {
   "cell_type": "code",
   "execution_count": 67,
   "metadata": {},
   "outputs": [
    {
     "name": "stderr",
     "output_type": "stream",
     "text": [
      "Loss -0.3080: : 100001it [00:16, 6087.28it/s]\n"
     ]
    }
   ],
   "source": [
    "lr_aleatoric, MSE_aleatoric, losses_aleatoric = train(X_in, y, aleatoric=True)"
   ]
  },
  {
   "cell_type": "code",
   "execution_count": 68,
   "metadata": {},
   "outputs": [
    {
     "data": {
      "text/plain": [
       "[<matplotlib.lines.Line2D at 0x1a19879438>]"
      ]
     },
     "execution_count": 68,
     "metadata": {},
     "output_type": "execute_result"
    },
    {
     "data": {
      "image/png": "[encoded data removed]",
      "text/plain": [
       "<Figure size 432x288 with 1 Axes>"
      ]
     },
     "metadata": {
      "needs_background": "light"
     },
     "output_type": "display_data"
    }
   ],
   "source": [
    "plt.plot(range(len(losses)), losses)\n",
    "plt.plot(range(len(losses_aleatoric)), losses_aleatoric)"
   ]
  },
  {
   "cell_type": "code",
   "execution_count": 77,
   "metadata": {},
   "outputs": [
    {
     "data": {
      "text/plain": [
       "(-5, 5)"
      ]
     },
     "execution_count": 77,
     "metadata": {},
     "output_type": "execute_result"
    },
    {
     "data": {
      "image/png": "[encoded data removed]",
      "text/plain": [
       "<Figure size 432x288 with 1 Axes>"
      ]
     },
     "metadata": {
      "needs_background": "light"
     },
     "output_type": "display_data"
    }
   ],
   "source": [
    "plt.scatter(np.squeeze(X), np.squeeze(y))\n",
    "\n",
    "x = np.linspace(-5, 5, 100)\n",
    "x_in = torch.from_numpy(x[:, None]).float()\n",
    "# x_in = torch.cat([x_in, x_in**2], dim=1)\n",
    "\n",
    "pred, _ = lr(x_in)\n",
    "pred = pred.detach().numpy().squeeze()\n",
    "plt.plot(x, pred)\n",
    "\n",
    "pred, var = lr_aleatoric(x_in)\n",
    "pred = pred.detach().numpy().squeeze()\n",
    "var = np.exp(var.detach().numpy().squeeze())\n",
    "plt.plot(x, pred)\n",
    "plt.fill_between(x, pred - var, pred + var, alpha=0.3)\n",
    "plt.legend(['Normal'.format(MSE), 'Bayes'.format(MSE_aleatoric)])\n",
    "plt.ylim((-5, 5))\n",
    "# _ = plt.xlim((-2, 2))"
   ]
  },
  {
   "cell_type": "code",
   "execution_count": null,
   "metadata": {},
   "outputs": [],
   "source": []
  }
 ],
 "metadata": {
  "kernelspec": {
   "display_name": "Python 3",
   "language": "python",
   "name": "python3"
  },
  "language_info": {
   "codemirror_mode": {
    "name": "ipython",
    "version": 3
   },
   "file_extension": ".py",
   "mimetype": "text/x-python",
   "name": "python",
   "nbconvert_exporter": "python",
   "pygments_lexer": "ipython3",
   "version": "3.7.1"
  }
 },
 "nbformat": 4,
 "nbformat_minor": 2
}
