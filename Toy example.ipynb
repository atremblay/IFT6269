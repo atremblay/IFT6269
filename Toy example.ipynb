{
 "cells": [
  {
   "cell_type": "code",
   "execution_count": 1,
   "metadata": {},
   "outputs": [],
   "source": [
    "import torch\n",
    "import torch.nn as nn\n",
    "import numpy as np\n",
    "import matplotlib.pyplot as plt\n",
    "import tqdm\n",
    "from scipy.stats import norm\n",
    "import copy"
   ]
  },
  {
   "cell_type": "markdown",
   "metadata": {},
   "source": [
    "Using dropout we get homoscedastic model uncertainty. This can be seen from the model definition [Gal and Ghahramani 2015, equation 8]. The likelihood in our derivations is defined as $y_i \\sim N(\\mu^W(x_i), \\tau^{-1} I)$ with $\\mu^W$ the network output, dependent on the randomly dropped weights $W$. Here our model precision $\\tau$ (which is the same as the inverse observation noise) is a constant, which has to be tuned for the data.\n",
    "\n",
    "We can easily adapt the model to obtain data-dependent noise. This simply involves making $\\tau$ into a function of the data, very much like $\\mu^W$ being a function of the data. We can tie the two functions together, splitting the top layer of a network between predictive mean $\\mu(x)$ and predictive variance $\\tau^{-1}(x)$ (of course we would want to re-parametrise this to make sure $\\tau$ is positive). Thus the new (now heteroscedastic!) model likelihood is given by $y_i \\sim N(\\mu^W(x_i), \\tau^{-1,W}(x_i) I)$."
   ]
  },
  {
   "cell_type": "code",
   "execution_count": 2,
   "metadata": {},
   "outputs": [],
   "source": [
    "def get_sample(size=10):\n",
    "    X = np.linspace(-2, 2, size)\n",
    "    epsilon = np.sin(X) + np.random.normal(0, 0.25, size=size)\n",
    "    y = X + epsilon\n",
    "    return torch.from_numpy(X[:, None]).float(), torch.from_numpy(y[:, None]).float()"
   ]
  },
  {
   "cell_type": "code",
   "execution_count": 3,
   "metadata": {},
   "outputs": [],
   "source": [
    "class Regression(nn.Module):\n",
    "    def __init__(self, in_features=1, bias=True, dropout=0., aleatoric=False):\n",
    "        super(Regression, self).__init__()\n",
    "        self.aleatoric = aleatoric\n",
    "        self.linear = nn.Sequential(\n",
    "            nn.Linear(in_features, 2, bias=bias),\n",
    "            nn.Dropout(dropout)\n",
    "        )\n",
    "        self.mu = nn.Linear(2, 1, bias=bias)\n",
    "        if aleatoric:\n",
    "            self.log_var = nn.Linear(2, 1, bias=bias)\n",
    "        \n",
    "    def forward(self, x):\n",
    "        x = self.linear(x)\n",
    "        if self.aleatoric:\n",
    "            return self.mu(x), self.log_var(x)\n",
    "        else:\n",
    "            return self.mu(x)"
   ]
  },
  {
   "cell_type": "code",
   "execution_count": 4,
   "metadata": {},
   "outputs": [],
   "source": [
    "def aleatoric_loss(true, pred, var):\n",
    "    \"\"\"\n",
    "    Taken from https://arxiv.org/pdf/1703.04977.pdf\n",
    "    Theory says we should implement equation (5),\n",
    "    but practice says equation (8).\n",
    "    This paper is for computer vision, but the theory behind it applies to\n",
    "    Params\n",
    "    ======\n",
    "    true: torch tensor\n",
    "        The true targets\n",
    "    pred: torch tensor\n",
    "        The predictions\n",
    "    var: torch tensor\n",
    "        The uncertainty of every prediction (actually log(var)).\n",
    "    \"\"\"\n",
    "    loss = torch.exp(-var) * (true - pred)**2 / 2\n",
    "    loss += 0.5 * var\n",
    "    return torch.mean(loss)"
   ]
  },
  {
   "cell_type": "code",
   "execution_count": 5,
   "metadata": {},
   "outputs": [],
   "source": [
    "def train(X, y, X_test, y_test, aleatoric=False, dropout=0.0):\n",
    "\n",
    "    net = Regression(in_features=X.shape[1], dropout=dropout, aleatoric=aleatoric)\n",
    "\n",
    "    optim = torch.optim.RMSprop(net.parameters(), lr=0.001, weight_decay=0.0001)\n",
    "    criterion = nn.MSELoss()\n",
    "    diff = 1\n",
    "    pbar = tqdm.tqdm()\n",
    "    i = 0\n",
    "    patience = 0\n",
    "    best_loss = np.inf\n",
    "    losses = []\n",
    "    best_net = copy.deepcopy(net)\n",
    "    while True:\n",
    "        net.train(True)\n",
    "        optim.zero_grad()\n",
    "        \n",
    "        if aleatoric:\n",
    "            pred, var = net(X)\n",
    "            pbar_str = \"Loss aleatoric {:.4f}\"\n",
    "            loss = aleatoric_loss(y, pred, var)\n",
    "            \n",
    "        else:\n",
    "            pred = net(X)\n",
    "            pbar_str = \"Loss {:.4f}\"\n",
    "            loss = criterion(pred, y)\n",
    "            \n",
    "\n",
    "        losses.append(loss.item())\n",
    "        pbar.update(1)\n",
    "        if i % 10000 == 0:\n",
    "            pbar.set_description(pbar_str.format(loss.item()))\n",
    "            \n",
    "        loss.backward()\n",
    "        optim.step()\n",
    "        \n",
    "        net.eval()\n",
    "        if aleatoric:\n",
    "            pred_test, var_test = net(X_test)\n",
    "            val_loss = aleatoric_loss(y_test, pred_test, var_test).item()\n",
    "        else:\n",
    "            pred_test = net(X_test)\n",
    "            val_loss = criterion(pred_test, y_test).item()\n",
    "            \n",
    "        if val_loss < best_loss:\n",
    "            if best_loss - val_loss < 0.0001:\n",
    "                patience += 1\n",
    "            else:\n",
    "                patience = 0\n",
    "                best_loss = val_loss\n",
    "                best_net = copy.deepcopy(net)\n",
    "\n",
    "        if patience >= 10 or i >= 150000:\n",
    "            break\n",
    "        i += 1\n",
    "    pbar.set_description(pbar_str.format(loss))\n",
    "    pbar.close()\n",
    "    best_net(X_test)\n",
    "    \n",
    "    if aleatoric:\n",
    "        pred_test, var_test = best_net(X_test)\n",
    "    else:\n",
    "        pred_test = best_net(X_test)\n",
    "    \n",
    "    MSE = ((pred_test - y_test)**2).mean()\n",
    "    \n",
    "    return net, MSE, losses\n",
    "    \n",
    "def monte_carlo(net, xlim=(-5, 5), T=100):\n",
    "    x = np.linspace(xlim[0], xlim[1], 100)\n",
    "    x_in = torch.from_numpy(x[:, None]).float()\n",
    "\n",
    "    net.train(True)\n",
    "    preds = np.empty((T, 100))\n",
    "    for i in range(T):\n",
    "        if net.aleatoric:\n",
    "            pred, _ = net(x_in)\n",
    "        else:\n",
    "            pred = net(x_in)\n",
    "        pred = pred.detach().numpy().squeeze()\n",
    "        preds[i] = pred\n",
    "\n",
    "    return preds, x"
   ]
  },
  {
   "cell_type": "code",
   "execution_count": 6,
   "metadata": {},
   "outputs": [
    {
     "data": {
      "image/png": "[encoded data removed]",
      "text/plain": [
       "<Figure size 432x288 with 1 Axes>"
      ]
     },
     "metadata": {
      "needs_background": "light"
     },
     "output_type": "display_data"
    }
   ],
   "source": [
    "X, y = get_sample(50)\n",
    "X_test, y_test = get_sample(50)\n",
    "plt.scatter(X.numpy().squeeze(), y.numpy().squeeze(), s=2)\n",
    "# plt.legend(['Train', 'Test'])\n",
    "plt.savefig('antithetical.png')"
   ]
  },
  {
   "cell_type": "code",
   "execution_count": 7,
   "metadata": {
    "scrolled": true
   },
   "outputs": [
    {
     "name": "stderr",
     "output_type": "stream",
     "text": [
      "Loss aleatoric -0.4984: : 150001it [01:09, 2161.40it/s]\n",
      "Loss 0.3435: : 150001it [00:45, 3293.53it/s]\n"
     ]
    }
   ],
   "source": [
    "lr_aleatoric, MSE_aleatoric, _ = train(X, y, X_test, y_test, dropout=0.1, aleatoric=True)\n",
    "lr, MSE, _ = train(X, y, X_test, y_test, dropout=0.1, aleatoric=False)"
   ]
  },
  {
   "cell_type": "code",
   "execution_count": 13,
   "metadata": {},
   "outputs": [
    {
     "data": {
      "image/png": "[encoded data removed]",
      "text/plain": [
       "<Figure size 360x576 with 3 Axes>"
      ]
     },
     "metadata": {
      "needs_background": "light"
     },
     "output_type": "display_data"
    }
   ],
   "source": [
    "fig, ax = plt.subplots(3,1, sharex=True, sharey=True, figsize=(5,8))\n",
    "ax[0].scatter(np.squeeze(X[:,0]), np.squeeze(y), s=2)\n",
    "\n",
    "# Plot aleatoric\n",
    "x = np.linspace(-2, 2, 100)\n",
    "lr_aleatoric.eval()\n",
    "pred, log_var = lr_aleatoric(torch.from_numpy(x[:, None]).float())\n",
    "pred = pred.detach().numpy().squeeze()\n",
    "std = np.sqrt(np.exp(log_var.detach().numpy().squeeze()))\n",
    "ax[0].plot(x, pred, lw=1)\n",
    "ax[0].fill_between(x, pred - std, pred + std, alpha=0.1, color='b')\n",
    "ax[0].fill_between(x, pred - 2*std, pred + 2*std, alpha=0.1, color='b')\n",
    "ax[0].set_title('With Aleatoric loss')\n",
    "\n",
    "# Plot Epistemic\n",
    "T = 100000\n",
    "preds, x = monte_carlo(lr, xlim=(-2, 2), T=T)\n",
    "mean_preds = preds.mean(axis=0)\n",
    "ax[1].scatter(np.squeeze(X[:,0]), np.squeeze(y), s=2)\n",
    "ax[1].plot(x, mean_preds)\n",
    "std = np.sqrt(preds.var(axis=0))\n",
    "ax[1].fill_between(x, mean_preds-std, mean_preds+std, alpha=0.10, color='b')\n",
    "ax[1].fill_between(x, mean_preds-2*std, mean_preds+2*std, alpha=0.10, color='b')\n",
    "ax[1].set_title(f'Epistemic, T={T}')\n",
    "    \n",
    "# Plot Epistemic\n",
    "preds, x = monte_carlo(lr_aleatoric, xlim=(-2, 2), T=T)\n",
    "mean_preds = preds.mean(axis=0)\n",
    "ax[2].scatter(np.squeeze(X[:,0]), np.squeeze(y), s=2)\n",
    "ax[2].plot(x, mean_preds)\n",
    "std = np.sqrt(preds.var(axis=0))\n",
    "ax[2].fill_between(x, mean_preds-std, mean_preds+std, alpha=0.10, color='b')\n",
    "ax[2].fill_between(x, mean_preds-2*std, mean_preds+2*std, alpha=0.10, color='b')\n",
    "ax[2].set_title(f'Aleatoric loss + Epistemic, T={T}')\n",
    "\n",
    "plt.tight_layout()\n",
    "fig.savefig('toy_example_aleatoric_epistemic.png')"
   ]
  },
  {
   "cell_type": "code",
   "execution_count": null,
   "metadata": {},
   "outputs": [],
   "source": []
  }
 ],
 "metadata": {
  "kernelspec": {
   "display_name": "Python 3",
   "language": "python",
   "name": "python3"
  },
  "language_info": {
   "codemirror_mode": {
    "name": "ipython",
    "version": 3
   },
   "file_extension": ".py",
   "mimetype": "text/x-python",
   "name": "python",
   "nbconvert_exporter": "python",
   "pygments_lexer": "ipython3",
   "version": "3.7.1"
  }
 },
 "nbformat": 4,
 "nbformat_minor": 2
}
